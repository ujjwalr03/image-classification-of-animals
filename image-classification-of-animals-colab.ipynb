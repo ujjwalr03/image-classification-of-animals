{
  "nbformat": 4,
  "nbformat_minor": 0,
  "metadata": {
    "colab": {
      "provenance": []
    },
    "kernelspec": {
      "name": "python3",
      "display_name": "Python 3"
    },
    "language_info": {
      "name": "python"
    }
  },
  "cells": [
    {
      "cell_type": "code",
      "execution_count": null,
      "metadata": {
        "id": "rDgi1X93yeHG"
      },
      "outputs": [],
      "source": [
        "# Step 1: Import Libraries\n",
        "import tensorflow as tf\n",
        "import numpy as np\n",
        "import os\n",
        "import cv2\n",
        "from tensorflow.keras.preprocessing.image import ImageDataGenerator\n",
        "from tensorflow.keras.applications import MobileNetV2\n",
        "from tensorflow.keras.layers import Dense, Dropout, GlobalAveragePooling2D\n",
        "from tensorflow.keras.models import Model\n",
        "from tensorflow.keras.optimizers import Adam\n",
        "from google.colab import files\n",
        "\n",
        "# Step 2: Clone Dataset from Your GitHub Repository\n",
        "!git clone https://github.com/ujjwalr03/image-classification-of-animals.git\n",
        "DATASET_PATH = \"image-classification-of-animals/dataset/\"\n",
        "\n",
        "# Step 3: Data Preprocessing\n",
        "IMG_SIZE = (224, 224)\n",
        "BATCH_SIZE = 32\n",
        "datagen = ImageDataGenerator(rescale=1./255, validation_split=0.2)\n",
        "train_data = datagen.flow_from_directory(DATASET_PATH, target_size=IMG_SIZE, batch_size=BATCH_SIZE, class_mode=\"categorical\", subset=\"training\")\n",
        "val_data = datagen.flow_from_directory(DATASET_PATH, target_size=IMG_SIZE, batch_size=BATCH_SIZE, class_mode=\"categorical\", subset=\"validation\")\n",
        "\n",
        "# Step 4: Load MobileNetV2 (Transfer Learning)\n",
        "base_model = MobileNetV2(input_shape=(224, 224, 3), include_top=False, weights=\"imagenet\")\n",
        "base_model.trainable = False\n",
        "x = GlobalAveragePooling2D()(base_model.output)\n",
        "x = Dense(128, activation=\"relu\")(x)\n",
        "x = Dropout(0.3)(x)\n",
        "output = Dense(train_data.num_classes, activation=\"softmax\")(x)\n",
        "\n",
        "# Step 5: Compile and Train Model\n",
        "model = Model(inputs=base_model.input, outputs=output)\n",
        "model.compile(optimizer=Adam(learning_rate=0.001), loss=\"categorical_crossentropy\", metrics=[\"accuracy\"])\n",
        "model.fit(train_data, validation_data=val_data, epochs=10)\n",
        "\n",
        "# Step 6: Save Model\n",
        "model.save(\"animal_classifier.h5\")\n",
        "\n",
        "# Step 7: Upload an Image for Testing\n",
        "uploaded = files.upload()\n",
        "image_path = list(uploaded.keys())[0]\n",
        "\n",
        "# Step 8: Load Model for Prediction\n",
        "model = tf.keras.models.load_model(\"animal_classifier.h5\")\n",
        "\n",
        "# Step 9: Predict on Uploaded Image\n",
        "def preprocess_image(img_path):\n",
        "    img = cv2.imread(img_path)\n",
        "    img = cv2.resize(img, (224, 224))\n",
        "    img = img / 255.0\n",
        "    img = np.expand_dims(img, axis=0)\n",
        "    return img\n",
        "\n",
        "class_labels = os.listdir(DATASET_PATH)\n",
        "\n",
        "predicted_class = class_labels[np.argmax(model.predict(preprocess_image(image_path)))]\n",
        "print(f\"{predicted_class}\")"
      ]
    }
  ]
}